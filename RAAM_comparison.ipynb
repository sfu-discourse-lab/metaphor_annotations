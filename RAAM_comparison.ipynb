{
 "cells": [
  {
   "cell_type": "markdown",
   "id": "a3af32a7-e5ae-4103-adeb-6c3ae59c2dbe",
   "metadata": {},
   "source": [
    "# MIP vs CMT"
   ]
  },
  {
   "cell_type": "markdown",
   "id": "4f54b998-82d6-4fd6-b382-22a24a82c767",
   "metadata": {},
   "source": [
    "## Import Packages"
   ]
  },
  {
   "cell_type": "code",
   "execution_count": 1,
   "id": "3c8463c3-a059-4fb0-824c-8876fdb0539a",
   "metadata": {},
   "outputs": [],
   "source": [
    "import pandas as pd\n",
    "import re\n",
    "from ast import literal_eval"
   ]
  },
  {
   "cell_type": "markdown",
   "id": "b8418cfd-ea27-4863-a1b7-0cda2d6c6906",
   "metadata": {},
   "source": [
    "## Reading and Cleaning Data"
   ]
  },
  {
   "cell_type": "markdown",
   "id": "3255e23a-1998-4c32-b11d-da0760f2c5fc",
   "metadata": {},
   "source": [
    "### MIP Annotations"
   ]
  },
  {
   "cell_type": "code",
   "execution_count": 2,
   "id": "6f6c8805-bed7-4d1a-9a28-df15a9e1a249",
   "metadata": {},
   "outputs": [],
   "source": [
    "# borrowed from Jodie\n",
    "# helper function to build a list of lists containing the start and end indices\n",
    "# and the difference between these indices\n",
    "# where labels is the labels associated with a specific text\n",
    "def labels_to_list(labels):\n",
    "  annotations = []\n",
    "\n",
    "  labels = literal_eval(labels)\n",
    "\n",
    "  for label in labels:\n",
    "    tags = []\n",
    "    tags.append(int(label['start']))\n",
    "    tags.append(int(label['end']))\n",
    "\n",
    "    annotations.append(tags)\n",
    "\n",
    "  return annotations"
   ]
  },
  {
   "cell_type": "code",
   "execution_count": 3,
   "id": "a269280a-94c0-401a-9b15-28f34ee9a75a",
   "metadata": {},
   "outputs": [],
   "source": [
    "# load in MIP annotation json and save it to a pandas dataframe\n",
    "mip_file_path = 'MIP-at-2025-08-08.json'\n",
    "mip_met_df = pd.read_json(mip_file_path)\n",
    "\n",
    "# extracting labels from the annotations column\n",
    "mip_met_df['labels'] = mip_met_df.apply(lambda row: row.annotations[0]['result'], axis=1)\n",
    "\n",
    "# fixing file names \n",
    "mip_met_df['filename'] = mip_met_df.apply(lambda row: re.sub(r\"^[^_]*-\", '', row.file_upload), axis=1)\n",
    "mip_met_df['filename'] = mip_met_df.apply(lambda row: re.sub(r\"_fixed\", '', row.filename[:-4].lower()), axis=1)\n",
    "mip_met_df['filename'] = mip_met_df.apply(lambda row: re.sub(r\"_NEW\", '', row.filename).lower(), axis=1)\n",
    "\n",
    "# adding text column\n",
    "mip_met_df['text'] = mip_met_df.apply(lambda row: row.data['text'], axis=1)"
   ]
  },
  {
   "cell_type": "markdown",
   "id": "87cc5772-d703-4fa4-8de6-b245387cd657",
   "metadata": {},
   "source": [
    "### CMT Annotations"
   ]
  },
  {
   "cell_type": "code",
   "execution_count": 4,
   "id": "fa99d848-22a3-4e31-a6b3-d60c45b5cf6d",
   "metadata": {},
   "outputs": [],
   "source": [
    "# load in CMT annotation json and save it to a pandas dataframe\n",
    "cmt_file_path = 'CMT_July30.json'\n",
    "cmt_met_df = pd.read_json(cmt_file_path)\n",
    "\n",
    "# extracting labels from the annotations column\n",
    "cmt_met_df['labels'] = cmt_met_df.apply(lambda row: row.annotations[0]['result'], axis=1)\n",
    "\n",
    "# cleaning up file names \n",
    "cmt_met_df['filename'] = cmt_met_df.apply(lambda row: re.sub(r\"^[^_]*-\", '', row.file_upload), axis=1)\n",
    "cmt_met_df['filename'] = cmt_met_df.apply(lambda row: re.sub(r\"_fixed\", '', row.filename[:-4]), axis=1)\n",
    "\n",
    "# adding text column\n",
    "cmt_met_df['text'] = cmt_met_df.apply(lambda row: row.data['text'], axis=1)"
   ]
  },
  {
   "cell_type": "markdown",
   "id": "200e68d1-a706-4033-b93e-c6782683d1c8",
   "metadata": {},
   "source": [
    "## File Name Comparison"
   ]
  },
  {
   "cell_type": "code",
   "execution_count": 5,
   "id": "a2d51239-9554-4a6e-ba73-1ecdb75c8422",
   "metadata": {},
   "outputs": [
    {
     "name": "stdout",
     "output_type": "stream",
     "text": [
      "no match: aboriginal_45\n",
      "Mr. Hughes draws a connection?  More like states the obvious.Which is why an inquiry is not needed.  There is nothing to figure out.  First Nations women are disproportionately victims of violence because they disproportionately live in poverty and poor housing with parents who are uneducated and unemployed not to mention alcoholics and drug addicts largely incapable of looking after themselves let alone children.  \n",
      "Mr. Hughes draws a connection? More like states the obvious. Which is why an inquiry is not needed. There is nothing to figure out. First Nations women are disproportionately victims of violence because they disproportionately live in poverty and poor housing with parents who are uneducated and unemployed not to mention alcoholics and drug addicts largely incapable of looking after themselves let alone children.\n",
      "no match: aboriginal_56\n",
      "Time for the elders and chiefs to stand up to the plate and take a leadership role! \n",
      "Time for the elders and chiefs to stand up to the plate and take a leadership role!\n",
      "no match: aboriginal_70\n",
      "Wow.  It seems commenters here have little knowledge of what is actually going on in FN communities.  You want to know why there are issues within families?  Well current parents were not raised by parents.  They were raised by a residential school system that abused them horribly.  How on earth could they learn to be parents?  Now they struggle siginficantly with the trauma from their past as well as trying to learn what normal parent-child relationships look like.  This is why lots of FN kids are being raised by other family members like grandparents.The systemic racism that is faced by the FN popuation is very real.  THe challenges faced by FN youth are also very real.  \n",
      "Wow. It seems commenters here have little knowledge of what is actually going on in FN communities. You want to know why there are issues within families? Well current parents were not raised by parents. They were raised by a residential school system that abused them horribly. How on earth could they learn to be parents? Now they struggle significantly with the trauma from their past as well as trying to learn what normal parent-child relationships look like. This is why lots of FN kids are being raised by other family members like grandparents. The systemic racism that is faced by the FN population is very real. THe challenges faced by FN youth are also very real.\n",
      "no match: china_40\n",
      "Looks like it. When it comes to one's portfolio, sovereignty takes on less meaning, something that the late Mel Hurtig failed to point out. He was not a socialist.We don't have sabers to rattle and our workforce has less and less to work at. Let's just sign the TPP and pull the sheet up over what's left. Who are we to be concerned  about China's domestication of the western Pacific, the Indian Ocean and east Africa ? \n",
      "Looks like it. When it comes to one's portfolio, sovereignty takes on less meaning, something that the late Mel Hurtig failed to point out. He was not a socialist. We don't have sabers to rattle and our workforce has less and less to work at. Let's just sign the TPP and pull the sheet up over what's left. Who are we to be concerned about China's domestication of the western Pacific, the Indian Ocean and east Africa ?\n",
      "no match: china_49\n",
      "Racist claptrap, MSL. \n",
      "Racist claptrap, MSL.\n",
      "no match: china_62\n",
      "This column is alarmist in the extreme and also, unfortunately, surprisingly blind to Western excesses. Has anything that China has done in the recent past even come anywhere close to the illegality, instability-causing, and sheer assault on international institutions of the US invasion of Iraq? Of course not. So, when the Chinese claim that the West is applying 'double-standards' they are, unquestionably, correct. That does not excuse what China is doing in the South China Sea. Mr. Burton is correct to say that, legally, China has no case and its aggressive response is unproductive. But, again, China is simply following in the footsteps of Westerners. It is treating the surrounding region as the US has treated Latin America and the Middle East. China is actually a far better follower of international law than the US. Mr. Burton should simply know better than to stir up this kind of jingoistic nonsense. \n",
      "This column is alarmist in the extreme and also, unfortunately, surprisingly blind to Western excesses. Has anything that China has done in the recent past even come anywhere close to the illegality, instability-causing, and sheer assault on international institutions of the US invasion of Iraq? Of course not. So, when the Chinese claim that the West is applying 'double-standards' they are, unquestionably, correct. That does not excuse what China is doing in the South China Sea. Mr. Burton is correct to say that, legally, China has no case and its aggressive response is unproductive. But, again, China is simply following in the footsteps of Westerners. It is treating the surrounding region as the US has treated Latin America and the Middle East. China is actually a far better follower of international law than the US. Mr. Burton should simply know better than to stir up this kind of jingoistic nonsense.\n",
      "no match: china_71\n",
      "exactly what I was going for. If equally sketchy, both countries (and others who do the same) should be equally chastised. China shouldn't be singled out simply because it has the ability to do more of it.... But other countries should be included in the same discussion, especially if they are the ones providing the harshest criticism on China (while they are doing the same exact thing) \n",
      "exactly what I was going for. If equally sketchy, both countries (and others who do the same) should be equally chastised. China shouldn't be singled out simply because it has the ability to do more of it.... But other countries should be included in the same discussion, especially if they are the ones providing the harshest criticism on China (while they are doing the same exact thing)\n",
      "no match: china_72\n",
      "i'd guess you don't really talk to many Chinese people do you? \n",
      "i'd guess you don't really talk to many Chinese people do you?\n",
      "no match: property_38\n",
      "I live in the City of Richmond, B.C. - 26% of the buyers of real estate in my city in the month before the tax was imposed were foreign.  One only has to look around at the signs on new development to determine who is being targeted for the sale of new properties. However, apparently 50% of the households of Richmond do not have any reported income in Canada and therefore do not pay any provincial and federal tax.  Who pays for the infrastructure that is the fabric of Canada?  Who pays for all of the social benefits? Is there any wonder there is an issue?  I realize that one can become entrenched behind the walls of academia, but perhaps the Professor can explain why it is acceptable that the cost of the first year of a Commerce degree at UBC is $7538.70 for a resident, while an international student pays $36,519.90 - a 'tax' of 484% per year?  If the Professor is looking to pinpoint racism and discrimination, he may wish to start with his own employer.  \n",
      "I live in the City of Richmond, B.C. - 26% of the buyers of real estate in my city in the month before the tax was imposed were foreign. One only has to look around at the signs on new development to determine who is being targeted for the sale of new properties. However, apparently 50% of the households of Richmond do not have any reported income in Canada and therefore do not pay any provincial and federal tax. Who pays for the infrastructure that is the fabric of Canada? Who pays for all of the social benefits? Is there any wonder there is an issue? I realize that one can become entrenched behind the walls of academia, but perhaps the Professor can explain why it is acceptable that the cost of the first year of a Commerce degree at UBC is $7538.70 for a resident, while an international student pays $36,519.90 - a 'tax' of 484% per year? If the Professor is looking to pinpoint racism and discrimination, he may wish to start with his own employer.\n",
      "no match: property_60\n",
      "Mr Yu, I am curious of your true motive of this article since the tax is explicitly applies to all buyers who are not Canadian. There are loopholes in the current market, and the government has a duty to address them. If it is true that foreign buyers is only a small percentage of the property sales, then the sales should have stayed the same after the tax is applied. You can argued that is only correlation, and only time can tell, but the fact is that sales have decreased. Also I am not sure if you know that even Hong Kong government imposed a similar tax. You so far has not provided evident which indicated this tax is applied to Chinese only? \n",
      "Mr Yu, I am curious of your true motive of this article since the tax is explicitly applies to all buyers who are not Canadian. There are loopholes in the current market, and the government has a duty to address them. If it is true that foreign buyers is only a small percentage of the property sales, then the sales should have stayed the same after the tax is applied. You can argued that is only correlation, and only time can tell, but the fact is that sales have decreased. Also I am not sure if you know that even Hong Kong government imposed a similar tax. You so far has not provided evident which indicated this tax is applied to Chinese only?\n",
      "no match: uber_3\n",
      "'Yes to Uber. No to taxi cartels.' -- G&M Editorial.Bang on! \n",
      "'Yes to Uber. No to taxi cartels.' -- G&M Editorial. Bang on!\n",
      "no match: uber_19\n",
      "Either way, that's irrelevant.  Does anyone expect to see the same cabbie day after day? Or even to see them ever again?  Nope.  The obnoxious colour they paint their cars is the only thing that bears any continuity for a paying customer. Beyond that, they get into a Camry one day, a Crown Vic another, one is maintained and clean, another is a falling apart jalopy.  Their drivers come and go too. That is just not a selling point. \n",
      "Either way, that's irrelevant. Does anyone expect to see the same cabbie day after day? Or even to see them ever again? Nope. The obnoxious colour they paint their cars is the only thing that bears any continuity for a paying customer. Beyond that, they get into a Camry one day, a Crown Vic another, one is maintained and clean, another is a falling apart jalopy. Their drivers come and go too. That is just not a selling point.\n",
      "no match: uber_32\n",
      "How is it possible,,, has everyone been hypnotized, The only monopoly I see is that Uber can do as they wish, without consequences currently,,,, Uber drivers are driving without any insurance,, and tax fraud,,, no HST,,, who know if they are even claiming income from it,,, According to the G&M an Uber driver makes a 1000 a week net in a brand new car,,, Really how can the public be so gullible,,,  \n",
      "How is it possible,,, has everyone been hypnotized, The only monopoly I see is that Uber can do as they wish, without consequences currently,,,, Uber drivers are driving without any insurance,, and tax fraud,,, no HST,,, who know if they are even claiming income from it,,, According to the G&M an Uber driver makes a 1000 a week net in a brand new car,,, Really how can the public be so gullible,,,\n",
      "no match: uber_41\n",
      "I am willing to bet that the G&amp;M will never give us the real story on Uber, \n",
      "I am willing to bet that the G&amp;M will never give us the real story on Uber,\n",
      "no match: uber_58\n",
      "Lost in space,,,, OMG,,, lets protect people who drive with no insurance,,, and defraud Revenue Canada,,, really,,,,I guess if you say it enough you may believe it,, \n",
      "Lost in space,,,, OMG,,, lets protect people who drive with no insurance,,, and defraud Revenue Canada,,, really,,,,I guess if you say it enough you may believe it,,\n",
      "no match: uber_63\n",
      "Never surprised   How would that be fair? No one paid 200k to the city for those licenses, did they? ---------- SOME DID a taxi licence plate is very expensive check with a taxi company \n",
      "Never surprised How would that be fair? No one paid 200k to the city for those licenses, did they? ---------- SOME DID a taxi licence plate is very expensive check with a taxi company\n",
      "no match: uber_72\n",
      "Preferable to supporting another method of skimming money to fill the 1%'s vaults as Uber does. \n",
      "Preferable to supporting another method of skimming money to fill the 1%'s vaults as Uber does.\n",
      "no match: uber_87\n",
      "There is no Cartel,,, please are we all going to follow the G&M nonsense, \n",
      "There is no Cartel,,, please are we all going to follow the G&M nonsense,\n",
      "no match: uber_114\n",
      "another lost soul,, not to worry, lots of lawyers in Toronto, and perhaps as early as next spring, you too may understand what we have been trying to tell our government about Uber, \n",
      "another lost soul,, not to worry, lots of lawyers in Toronto, and perhaps as early as next spring, you too may understand what we have been trying to tell our government about Uber,\n",
      "no match: uber_115\n",
      "hello,,,, high rollover in drivers as there is no money in it for Uber drivers, increases of 20 percent to 30 percent,,, on its way , dont be lost like the rest of the sheep, take a look No insurance ---- none,,, unbelievable how many lost people there are,,,  \n",
      "hello,,,, high rollover in drivers as there is no money in it for Uber drivers, increases of 20 percent to 30 percent,,, on its way , dont be lost like the rest of the sheep, take a look No insurance ---- none,,, unbelievable how many lost people there are,,,\n",
      "no match: uber_126\n",
      "“What we need is one bylaw that applies without question to everybody,” he said. “We cannot have the Wild West, but we also cannot have a city that in some way ignores the march of technology and time.”=====================================================Mayor Tory has it right. The problem has arisen due to the totally different treatment the two sectors of the taxi service are subject to. Governments like regulation & collecting money and Uber doesn't allow them to do that. \n",
      "“What we need is one bylaw that applies without question to everybody,” he said. “We cannot have the Wild West, but we also cannot have a city that in some way ignores the march of technology and time.”=====================================================Mayor Tory has it right. The problem has arisen due to the totally different treatment the two sectors of the taxi service are subject to. Governments like regulation & collecting money and Uber doesn't allow them to do that.\n",
      "no match: watch_46\n",
      "I feel about the same way you feel about your 'obsolete' ipod, Nebuly:  when we bought a new car a few years ago, I realized almost immediately that (gasp!) it didn't have an audio cassette machine!  This, after years of re-recording and collecting music on cassette tape--what to do?  Answer: remember the good times.  I do have a compact shelf-model CD/radio/cassette unit (TWIN cassette players, I might add) with small detachable speakers sitting in my home office. It is the only place I can play those cassettes, now. When that goes...well, maybe my hearing will have deteriorated to the point where it won't matter anymore...\n",
      "I followed you thoughts until you used the code word, 'coffers', something I hear the union bosses use when deriding someone's profit from exceptional effort, hard work, risk and the use of their own capital. You're dismissed now.\n",
      "no match: watch_47\n",
      "I followed you thoughts until you used the code word, 'coffers', something I hear the union bosses use when deriding someone's profit from exceptional effort, hard work, risk and the use of their own capital. You're dismissed now.\n",
      "I got a watch for graduation 35+ years ago. No sooner did I put it on than the strap broke. I put it away intending to get a new strap. Five years later I got around to getting a strap. It was 15 minutes later the battery went dead. So I have worn a watch for about 15 minutes of my life. Oddly I seem to always know what time it is, give or take 10 minutes. It can be a pitch black overcast night and the wife will ask what time it is, I go 'its quarter after two' she goes to the kitchen and it is 10 after. I don't use an alarm clock, don't wear a watch, yet somehow I sense the time of day. Then as Nebuly said, there are clocks everywhere when it gets down to a matter of a few minutes. Anywhere where things are time sensitive there are clocks around.\n",
      "no match: watch_54\n",
      "I'm not upset at all; I have my 160gb Classic and love it, and am really glad Apple made it. I'm just sorry that there's now nothing on the market that can touch it for storage/capacity. As I said: the Classic did one thing and did it brilliantly, and now the only replacement is something with a fraction of the storage space. So, yeah, progress, I suppose. \n",
      "I've changed all my incandescent bulbs, except the fridge one, About 50 in total and my electric bills keep going up. The saving they touted were imaginary. They forced us to buy them knowing the rates would go up. Guess they hoped we wouldn't notice or care as much.\n",
      "no match: watch_56\n",
      "I, on the other hand, feel lost when I'm not wearing my watch. I'm not always in front of my computer or in my car or in a room with a clock; sometimes I'm (hard to believe, I know) outside, doing yardwork, or at the local garden centre, or at a friend's house with a clock not readily apparent. Indeed, the last scenario played out a week or so ago, at a meeting, and someone asked what time it was. I glanced at my wrist and had the answer while everyone else was still reaching for their phone.\n",
      "If it's cassette deck you want, you could just by my 2004 Buick. It's a cassette deck wrapped in by a car.\n",
      "no match: watch_57\n",
      "If it's cassette deck you want, you could just by my 2004 Buick.  It's a cassette deck wrapped in by a car.\n",
      "Information overload is real. And very stressful. The tech revolution is like all revolutions before it. It began with idealism, hope and awesome innovations. Then came the disruptions to the status quo. The arts have suffered dreadfully. Recent reports show incomes for musicians, writers, and artists are way down from a decade ago. But the Tech Rebels scoff at this and call us to look to the Brave New World of Free Information, Art, and Music. One might ask where those who once were paid to write and sing will find money to eat, but that just makes you a reactionary and a counter-revolutionary. Food can now be printed on one's 3-D printer, says the Comrade of Tech. I'm tempted to scoff, 'Let them eat Bits & Bytes', but that is a trademarked name. I listened to Douglas Coupland, who is sounding like a tech party hack more and more, talk about not being able to remember what it was like to not have the Internet. He has a Wired Brain now. And he offered an anecdote to prove it, only the anecdote proved to be vague and flat and unpersuasive (like everything Mr Coupland has written after Generation X).My library has ditched half its collection in the past two years in the naive belief we'll soon be fully digital and want to be fully digital. But the avid readers I know still prefer paper to screens, except when travelling. And though I love my Netflix, streaming is ephemeral with limited selection and brief windows of opportunity. Revolutions, as we know, do not lead to utopian worlds where everyone is free and equal. There's an Orwellian perversity to Tech Rebel's claims that Net Neutrality will bring about an Earthly Paradise when what we really see is a move to One Bookstore, One Taxi Dispatcher, One Encyclopedia, and One Index to the Whole World. The Robber Barons of the Gilded Age have returned and joining them are the Silicon Sultans of the Information Age. And we're called Users, like a drug addict, and yet we are the ones being used. The Bread and Circuses of the Internet keep us entertained while wealth and power becomes concentrated into the hands of a very select few. Aldous Huxley, Douglas Adams, and Neil Postman had it right. We are amusing ourselves to death. And I'm reminded of that scene in Ninotchka where Melvyn Douglas turns on the radio while romancing Greta Garbo and says his radio is 'a little box that you buy on the installment plan and before you tune it in, they tell you there's a new model out.'Who's watching the smart watchmen?\n",
      "no match: watch_59\n",
      "Information overload is real. And very stressful.The tech revolution is like all revolutions before it. It began with idealism, hope and awesome innovations. Then came the disruptions to the status quo.The arts have suffered dreadfully. Recent reports show incomes for musicians, writers, and artists are way down from a decade ago. But the Tech Rebels scoff at this and call us to look to the Brave New World of Free Information, Art, and Music.One might ask where those who once were paid to write and sing will find money to eat, but that just makes you a reactionary and a counter-revolutionary. Food can now be printed on one's 3-D printer, says the Comrade of Tech.I'm tempted to scoff, 'Let them eat Bits &amp; Bytes', but that is a trademarked name.I listened to Douglas Coupland, who is sounding like a tech party hack more and more, talk about not being able to remember what it was like to not have the Internet. He has a Wired Brain now. And he offered an anecdote to prove it, only the anecdote proved to be vague and flat and unpersuasive (like everything Mr Coupland has written after Generation X).My library has ditched half its collection in the past two years in the naive belief we'll soon be fully digital and want to be fully digital. But the avid readers I know still prefer paper to screens, except when travelling. And though I love my Netflix, streaming is ephemeral with limited selection and brief windows of opportunity.Revolutions, as we know, do not lead to utopian worlds where everyone is free and equal. There's an Orwellian perversity to Tech Rebel's claims that Net Neutrality will bring about an Earthly Paradise when what we really see is a move to One Bookstore, One Taxi Dispatcher, One Encyclopedia, and One Index to the Whole World.The Robber Barons of the Gilded Age have returned and joining them are the Silicon Sultans of the Information Age. And we're called Users, like a drug addict, and yet we are the ones being used. The Bread and Circuses of the Internet keep us entertained while wealth and power becomes concentrated into the hands of a very select few.Aldous Huxley, Douglas Adams, and Neil Postman had it right. We are amusing ourselves to death. And I'm reminded of that scene in Ninotchka where Melvyn Douglas turns on the radio while romancing Greta Garbo and says his radio is 'a little box that you buy on the installment plan and before you tune it in, they tell you there's a new model out.'Who's watching the smart watchmen?\n",
      "Innovation is the critical component to improving our lives, whether for basic information technology or health and well being. Canada is almost trailing the industrial world in the use of electronic health records and our joy of waging war on drug companies keeps us in the last quartile of pharmaceutical innovation because we can't afford the cost of risk, research and development. It appears we enjoy adopting some technology at a fast pace but we assume the barrier to other technologies, primarily controlled by government, are not as important.\n",
      "no match: watch_64\n",
      "Love my Classic and it's 800 plus 'albums'. Don't love the iTunes program.  \n",
      "Loved this article!\n",
      "no match: watch_67\n",
      "Nice shot, GV1.\n",
      "No, no line in the sand; but one person's 'necessary' is another person's 'don't need it'. I don't necessarily want to 'make do with less'; but I have what I need to do what I want. I have a camera (digital) to take pictures with; a watch to tell me what time it is; a Blackberry that lets me send and receive texts and phone calls. If I want to check e-mail, Facebook, browse the web, Google something, I have a computer. When I'm away from it, I'm at work, or doing something where a computer isn't necessary (like cooking, gardening, reading, watching a DVD). If I have a burning need to find something out Right This Very Second - well, it can usually wait until I'm near a computer. And I'm fine with all that, just as I'm fine with people who absolutely, positively can't live without something that does everything except open the garage door (and I'm sure there's an app for that). So don't judge people who don't have to have the latest i Whatever as hopeless fuddy-duddy stick-in-the-muds who'd go back to wind-up gramophone s if they had a chance (that said, I do have a wind-up gramophone, which my son - born in 1997, and as wired as they come - thinks is wonderful). I edit a weekly newspaper, and use Photoshop and InDesign to put the whole thing together; a long way from the physical lay-out and paste-up I learned with, and I wouldn't go back to those days for all the hot wax in the world.\n",
      "no match: watch_70\n",
      "Nothing wrong with using something until it wears out. Nothing at all. But the pace of technological advancement is quite compared to the Walkman era. And time stands still for no one.\n",
      "PRINCIPLE: The purpose of technology is to serve humankind, not the other way around. APPLICATION: Instead of buying a $500 Apple Watch, buy a $500 Seiko and enjoy a real watch.\n",
      "no match: watch_72\n",
      "Perfect and very funny!  Thank you.\n",
      "Tail wagging the dog\n",
      "no match: watch_75\n",
      "Thanks for your reply. Perhaps 'line in the sand' was the wrong simile (or expression). I'm just pointing out that everyone gets to a point at which they're comfortable with the way they do things. There's no reason to embrace new technology if what you have and are used to does what you want it to. But there's also nothing wrong with wanting to do things 'the new way' because we all did things in new ways at some point in our lives.I'm not much younger than you I suspect since my eldest is only a few years younger than yours but I think I might still be more open to 'the latest thing'. \n",
      "That's actually a really good point! When people spend north of $10K on a watch, they expect it to last the rest of their lives or at least a good long time. Apple is going to have to ensure the Watch is compatible with future i Phones too. If they end up obsolescing the $13K watch in two years they will generate quite the backlash.\n",
      "no match: watch_82\n",
      "We stocked up on incandescent bulbs, so we have a lifetime left of the nice warm light they emit.\n",
      "Where do you get 'simple' from?\n",
      "no match: watch_85\n",
      "While technology does march on, sometimes it takes a few backwards steps towards true progress. Case in point are the ipads and tablets which I see as little more than toys for the easily distracted. While tablets are today's rage that have led to the nosediving of the laptop, anyone who has used these new devices knows all to well their limitations. Trying to compose an email on a ipad is like communicating in morse code or sending a telegram circa 1913. The same goes for the smartwatch which does not even have GPS, which every cheap digital camera has, big mistake. But what do I know, I'm a geezer and still tell the time by a watch with a face. \n",
      "Why?Why would you spend the same amount to get less?\n",
      "no match: watch_87\n",
      "Wow, Seiko's cost that much?  For half that you can buy a 75 year old Bulova, which will run another 75 years. \n",
      "Yeah, the next iteration will be released in 3 months and the electronics is only worth 20 bucks - right!\n",
      "no match: watch_89\n",
      "Yes, great writing!\n",
      "You may be using a blackberry. I'm still using a gooseberry.\n",
      "36\n"
     ]
    }
   ],
   "source": [
    "# checking to see which comments do not match, based on their filenames\n",
    "cnt = 0\n",
    "for name in cmt_met_df.filename.unique():\n",
    "    # checks whether the last 10 characters match\n",
    "    if mip_met_df[mip_met_df['filename']==name].reset_index().text[0][-10:]!=cmt_met_df[cmt_met_df['filename']==name].reset_index().text[0][-10:]:\n",
    "        # if not, prints the file name in CMT and the text associated with it in both CMT and MIP\n",
    "        print('no match:', name)\n",
    "        print(mip_met_df[mip_met_df['filename']==name].reset_index().data[0]['text'])\n",
    "        print(cmt_met_df[cmt_met_df['filename']==name].reset_index().data[0]['text'])\n",
    "        cnt+=1\n",
    "# prints the number of files that do not match\n",
    "print(cnt)"
   ]
  },
  {
   "cell_type": "code",
   "execution_count": 6,
   "id": "fbffcf91-7fde-4975-a42a-6b13cd7b0e1f",
   "metadata": {},
   "outputs": [],
   "source": [
    "# all names up to watch are added to the list of CMT comments that are identical in MIP (based on manual checking)\n",
    "mip_names = cmt_met_df.filename.unique().tolist()[:125]\n",
    "\n",
    "# creating new dataframes that only contain the watch comments\n",
    "cmt_watch_df = cmt_met_df[cmt_met_df.filename.str.contains('watch')]\n",
    "mip_watch_df = mip_met_df[mip_met_df.filename.str.contains('watch')]\n",
    "\n",
    "for name in cmt_watch_df.filename.unique():\n",
    "    # extracting the text in CMT corresponding to a filename\n",
    "    cmt_text = cmt_watch_df[cmt_watch_df['filename']==name].reset_index().data[0]['text']\n",
    "    # checking the the final 10 characters match\n",
    "    if mip_watch_df[mip_watch_df['filename']==name].reset_index().data[0]['text'][-10:]== cmt_text[-10:]:\n",
    "        # if yes, the name is added to the list\n",
    "        mip_names.append(name)\n",
    "    else:\n",
    "        # if not, we search for other comments that match (corresponding final 30 characters)\n",
    "        mip_matches = mip_watch_df[mip_watch_df.text.str.contains(cmt_text[-30:])].filename.unique()\n",
    "        # if there is only one match, we add that filename to the list of names\n",
    "        if len(mip_matches) == 1:\n",
    "            mip_names.append(mip_matches[0])\n",
    "\n",
    "        # if there is no match, or more than one match, we print out the relevant information\n",
    "        else:\n",
    "            print('no match:', name)\n",
    "            print(cmt_text)\n",
    "            print(mip_watch_df[mip_watch_df['filename']==name].reset_index().data[0]['text'])\n",
    "            print(mip_matches)        "
   ]
  },
  {
   "cell_type": "code",
   "execution_count": 7,
   "id": "aac796dc-f48b-43c3-bc7f-56f3064642d0",
   "metadata": {},
   "outputs": [
    {
     "data": {
      "text/plain": [
       "150"
      ]
     },
     "execution_count": 7,
     "metadata": {},
     "output_type": "execute_result"
    }
   ],
   "source": [
    "len(mip_names)"
   ]
  },
  {
   "cell_type": "markdown",
   "id": "50d3292b-2541-4fd7-a2e7-f3280644733f",
   "metadata": {},
   "source": [
    "## Analysis of Reduced MIP Corpus"
   ]
  },
  {
   "cell_type": "code",
   "execution_count": 8,
   "id": "18b5bbd5-b967-4094-9bff-b2da958916ec",
   "metadata": {},
   "outputs": [
    {
     "name": "stdout",
     "output_type": "stream",
     "text": [
      "There are 429 labels in the MIP annotation layer, and the average span of each label is 6.384615384615385 characters.\n"
     ]
    }
   ],
   "source": [
    "# creating a reduce MIP dataframe with only the comments in the CMT layer\n",
    "mip_reduced = mip_met_df[mip_met_df.filename.isin(mip_names)]\n",
    "\n",
    "# creating a dictionary of metaphor labels, where each key is a filename\n",
    "met_labels = {}\n",
    "for name in mip_reduced['filename'].unique():\n",
    "    # creating a new dataframe only containing labels corresponding to one file\n",
    "    new_df = mip_reduced[mip_reduced['filename']==name][['filename', 'labels']].reset_index()\n",
    "    # creating a list to save the labels in \n",
    "    labels_list = []\n",
    "    for el in new_df['labels'][0]:\n",
    "        # adding labels to the label list using the helper function\n",
    "        labels_list.append(labels_to_list(str([el['value']]))[0])\n",
    "    # saving the list of labels to the dictionary \n",
    "    met_labels[name] = labels_list\n",
    "\n",
    "# creating a list to contain the length of each label           \n",
    "labels_diff = []\n",
    "for label in met_labels.values():\n",
    "    for indices in label:\n",
    "        # calculating the difference in indices\n",
    "        length=indices[1]-indices[0]\n",
    "        # appending the length to the list\n",
    "        labels_diff.append(length)\n",
    "print('There are {} labels in the MIP annotation layer, and the average span of each label is {} characters.'.format(len(labels_diff),\n",
    "                                                                                                                    sum(labels_diff)/len(labels_diff)))"
   ]
  },
  {
   "cell_type": "code",
   "execution_count": null,
   "id": "68694c27-1d33-44e8-acb3-11f5da88a707",
   "metadata": {},
   "outputs": [],
   "source": []
  }
 ],
 "metadata": {
  "kernelspec": {
   "display_name": "Python 3 (ipykernel)",
   "language": "python",
   "name": "python3"
  },
  "language_info": {
   "codemirror_mode": {
    "name": "ipython",
    "version": 3
   },
   "file_extension": ".py",
   "mimetype": "text/x-python",
   "name": "python",
   "nbconvert_exporter": "python",
   "pygments_lexer": "ipython3",
   "version": "3.10.11"
  }
 },
 "nbformat": 4,
 "nbformat_minor": 5
}
